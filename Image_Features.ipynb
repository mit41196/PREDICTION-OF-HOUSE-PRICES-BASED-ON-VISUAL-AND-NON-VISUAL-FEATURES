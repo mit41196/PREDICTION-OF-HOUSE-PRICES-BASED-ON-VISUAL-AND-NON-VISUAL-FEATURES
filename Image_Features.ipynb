{
 "cells": [
  {
   "cell_type": "markdown",
   "metadata": {
    "heading_collapsed": true
   },
   "source": [
    "# Import Libraries"
   ]
  },
  {
   "cell_type": "code",
   "execution_count": null,
   "metadata": {
    "ExecuteTime": {
     "end_time": "2019-05-01T11:46:24.399041Z",
     "start_time": "2019-05-01T11:46:17.096424Z"
    },
    "hidden": true
   },
   "outputs": [],
   "source": [
    "import numpy as np\n",
    "import argparse\n",
    "import locale\n",
    "import os\n",
    "import pandas as pd\n",
    "import glob\n",
    "import cv2\n",
    "import matplotlib.pyplot as plt"
   ]
  },
  {
   "cell_type": "code",
   "execution_count": null,
   "metadata": {
    "ExecuteTime": {
     "end_time": "2019-05-01T11:46:39.665814Z",
     "start_time": "2019-05-01T11:46:24.404039Z"
    },
    "hidden": true
   },
   "outputs": [],
   "source": [
    "from keras.models import Sequential\n",
    "from keras.layers.normalization import BatchNormalization\n",
    "from keras.layers.convolutional import Conv2D\n",
    "from keras.layers.convolutional import MaxPooling2D\n",
    "from keras.layers.core import Activation\n",
    "from keras.layers.core import Dropout\n",
    "from keras.layers.core import Dense\n",
    "from keras.layers import Flatten\n",
    "from keras.layers import Input\n",
    "from keras.models import Model\n",
    "from keras.optimizers import Adam"
   ]
  },
  {
   "cell_type": "code",
   "execution_count": null,
   "metadata": {
    "ExecuteTime": {
     "end_time": "2019-05-01T11:46:46.247681Z",
     "start_time": "2019-05-01T11:46:39.668752Z"
    },
    "hidden": true
   },
   "outputs": [],
   "source": [
    "from sklearn.model_selection import train_test_split\n",
    "from sklearn.svm import SVR\n",
    "from sklearn.metrics import mean_absolute_error\n",
    "from sklearn.metrics import mean_squared_error\n",
    "from sklearn.linear_model import LinearRegression\n",
    "from sklearn.metrics import r2_score\n",
    "from sklearn.kernel_ridge import KernelRidge\n",
    "from sklearn.ensemble import RandomForestRegressor\n",
    "import xgboost as xgb"
   ]
  },
  {
   "cell_type": "code",
   "execution_count": null,
   "metadata": {
    "ExecuteTime": {
     "end_time": "2019-05-01T11:46:46.261675Z",
     "start_time": "2019-05-01T11:46:46.254680Z"
    },
    "hidden": true
   },
   "outputs": [],
   "source": [
    "image_shape = (32, 32)"
   ]
  },
  {
   "cell_type": "markdown",
   "metadata": {
    "heading_collapsed": true
   },
   "source": [
    "# Removing Outliers"
   ]
  },
  {
   "cell_type": "code",
   "execution_count": null,
   "metadata": {
    "ExecuteTime": {
     "end_time": "2019-05-01T11:46:46.360775Z",
     "start_time": "2019-05-01T11:46:46.272670Z"
    },
    "hidden": true
   },
   "outputs": [],
   "source": [
    "def remove_outliers(dfs):\n",
    "    \n",
    "    df = dfs.copy(deep=True)\n",
    "    zipcodes = list(df['zip_code'].value_counts().keys())\n",
    "    counts = list(df[\"zip_code\"].value_counts())\n",
    "\n",
    "    df_new = pd.DataFrame()\n",
    "    for (zipcode, count) in zip(zipcodes, counts):\n",
    "        if count > 25:\n",
    "            ind = df[df['zip_code'] == zipcode].index\n",
    "            for i in ind:\n",
    "                df_new = df_new.append(df[i:i+1])\n",
    "            \n",
    "    return df_new"
   ]
  },
  {
   "cell_type": "markdown",
   "metadata": {
    "heading_collapsed": true
   },
   "source": [
    "# Reading and Make Collage of Images"
   ]
  },
  {
   "cell_type": "code",
   "execution_count": null,
   "metadata": {
    "ExecuteTime": {
     "end_time": "2019-05-01T11:46:46.480752Z",
     "start_time": "2019-05-01T11:46:46.362789Z"
    },
    "hidden": true
   },
   "outputs": [],
   "source": [
    "def read_images(df):\n",
    "    \n",
    "    \n",
    "    path = os.getcwd()\n",
    "    path = os.path.join(path, \"Houses Dataset\")\n",
    "    all_images = []\n",
    "    for i in df.index.values:\n",
    "        \n",
    "        imagepath = os.path.sep.join([path, \"{}_*\".format(i + 1)])\n",
    "        four_images = glob.glob(imagepath)\n",
    "        four_images = sorted(four_images)\n",
    "        \n",
    "        temp = []\n",
    "        collage = np.zeros((64, 64, 3), dtype=np.uint8)\n",
    "        \n",
    "        for image in four_images:\n",
    "            \n",
    "            img = cv2.imread(image)\n",
    "            img = cv2.resize(img, image_shape)\n",
    "            temp.append(img)\n",
    "            \n",
    "        collage[0:32, 0:32] = temp[0]\n",
    "        collage[0:32, 32:64] = temp[1]\n",
    "        collage[32:64, 32:64] = temp[2]\n",
    "        collage[32:64, 0:32] = temp[3]\n",
    "        \n",
    "        all_images.append(collage)\n",
    "        \n",
    "    all_images = np.array(all_images)\n",
    "    return all_images"
   ]
  },
  {
   "cell_type": "markdown",
   "metadata": {
    "heading_collapsed": true
   },
   "source": [
    "# Convert to Grey-scale"
   ]
  },
  {
   "cell_type": "code",
   "execution_count": null,
   "metadata": {
    "ExecuteTime": {
     "end_time": "2019-05-01T11:46:46.589571Z",
     "start_time": "2019-05-01T11:46:46.484769Z"
    },
    "hidden": true
   },
   "outputs": [],
   "source": [
    "def greyscale(arr):\n",
    "    \n",
    "    v = []\n",
    "    for i in range(arr.shape[0]):\n",
    "    \n",
    "        gray = cv2.cvtColor(arr[i], cv2.COLOR_BGR2GRAY)\n",
    "        v.append(gray.flatten())\n",
    "\n",
    "    return np.array(v)"
   ]
  },
  {
   "cell_type": "markdown",
   "metadata": {
    "heading_collapsed": true
   },
   "source": [
    "# Support Vector Regression"
   ]
  },
  {
   "cell_type": "code",
   "execution_count": null,
   "metadata": {
    "ExecuteTime": {
     "end_time": "2019-05-01T11:46:46.705162Z",
     "start_time": "2019-05-01T11:46:46.596562Z"
    },
    "hidden": true
   },
   "outputs": [],
   "source": [
    "def support_regressor(X_train, y_train, X_test, y_test):\n",
    "    \n",
    "    svr = SVR(kernel='rbf')\n",
    "    svr.fit(X_train, y_train)\n",
    "    pred_svr = svr.predict(X_test)\n",
    "    mae_svr = mean_absolute_error(y_test, pred_svr)\n",
    "    r2_svr = r2_score(y_test, pred_svr)\n",
    "    \n",
    "    return r2_svr, mae_svr"
   ]
  },
  {
   "cell_type": "markdown",
   "metadata": {
    "heading_collapsed": true
   },
   "source": [
    "# XGBoost Regression"
   ]
  },
  {
   "cell_type": "code",
   "execution_count": null,
   "metadata": {
    "ExecuteTime": {
     "end_time": "2019-05-01T11:46:46.844437Z",
     "start_time": "2019-05-01T11:46:46.708159Z"
    },
    "hidden": true
   },
   "outputs": [],
   "source": [
    "def XGBoost_regressor(X_train, y_train, X_test, y_test):\n",
    "    \n",
    "    xgb_model = xgb.XGBRegressor(random_state=42)\n",
    "    xgb_model.fit(X_train, y_train)\n",
    "    pred_xgb = xgb_model.predict(X_test)\n",
    "    r2_xgb = r2_score(y_test, pred_xgb)\n",
    "    mae_xgb = mean_absolute_error(y_test, pred_xgb)\n",
    "    \n",
    "    return r2_xgb, mae_xgb"
   ]
  },
  {
   "cell_type": "markdown",
   "metadata": {
    "heading_collapsed": true
   },
   "source": [
    "# Linear Regression"
   ]
  },
  {
   "cell_type": "code",
   "execution_count": null,
   "metadata": {
    "ExecuteTime": {
     "end_time": "2019-05-01T11:46:46.976300Z",
     "start_time": "2019-05-01T11:46:46.848431Z"
    },
    "hidden": true
   },
   "outputs": [],
   "source": [
    "def linear_regression(X_train, y_train, X_test, y_test):\n",
    "    \n",
    "    lr = LinearRegression()\n",
    "    lr.fit(X_train, y_train)\n",
    "    pred_lr = lr.predict(X_test)\n",
    "    r2_lr = r2_score(y_test, pred_lr)\n",
    "    mse_lr = mean_absolute_error(y_test, pred_lr)\n",
    "    \n",
    "    return r2_lr, mse_lr"
   ]
  },
  {
   "cell_type": "markdown",
   "metadata": {
    "heading_collapsed": true
   },
   "source": [
    "# Kernel Ridge Regression"
   ]
  },
  {
   "cell_type": "code",
   "execution_count": null,
   "metadata": {
    "ExecuteTime": {
     "end_time": "2019-05-01T11:46:47.150527Z",
     "start_time": "2019-05-01T11:46:46.979287Z"
    },
    "hidden": true
   },
   "outputs": [],
   "source": [
    "def kernel_ridge_regression(X_train, y_train, X_test, y_test):\n",
    "    \n",
    "    clf = KernelRidge(alpha=1.0)\n",
    "    clf.fit(X_train, y_train)\n",
    "    pred_krr = clf.predict(X_test)\n",
    "    r2_krr = r2_score(y_test, pred_krr)\n",
    "    mse_krr = mean_absolute_error(y_test, pred_krr)\n",
    "    \n",
    "    return r2_krr, mse_krr"
   ]
  },
  {
   "cell_type": "markdown",
   "metadata": {
    "heading_collapsed": true
   },
   "source": [
    "# Random Forest Regressor"
   ]
  },
  {
   "cell_type": "code",
   "execution_count": null,
   "metadata": {
    "ExecuteTime": {
     "end_time": "2019-05-01T11:46:47.251214Z",
     "start_time": "2019-05-01T11:46:47.158507Z"
    },
    "hidden": true
   },
   "outputs": [],
   "source": [
    "def random_forest_regressor(X_train, y_train, X_test, y_test):\n",
    "    \n",
    "    rfr = RandomForestRegressor(max_depth=2, random_state=0, n_estimators=100)\n",
    "    rfr.fit(X_train, y_train)\n",
    "    pred_rfr = rfr.predict(X_test)\n",
    "    r2_rfr = r2_score(y_test, pred_rfr)\n",
    "    mae_rfr = mean_absolute_error(y_test, pred_rfr)\n",
    "    \n",
    "    return r2_rfr, mae_rfr"
   ]
  },
  {
   "cell_type": "markdown",
   "metadata": {
    "heading_collapsed": true
   },
   "source": [
    "# Convolutional Neural Network"
   ]
  },
  {
   "cell_type": "code",
   "execution_count": null,
   "metadata": {
    "ExecuteTime": {
     "end_time": "2019-05-01T11:46:47.351375Z",
     "start_time": "2019-05-01T11:46:47.253193Z"
    },
    "hidden": true
   },
   "outputs": [],
   "source": [
    "def Conv2DReluBatchNorm(n_filter, w_filter, h_filter, inputs):\n",
    "    return BatchNormalization()(Activation(activation='relu')(Conv2D(n_filter, (w_filter, h_filter), padding='same')(inputs)))"
   ]
  },
  {
   "cell_type": "code",
   "execution_count": null,
   "metadata": {
    "ExecuteTime": {
     "end_time": "2019-05-01T11:46:47.438436Z",
     "start_time": "2019-05-01T11:46:47.354352Z"
    },
    "hidden": true
   },
   "outputs": [],
   "source": [
    "def build_CNN():\n",
    "    \n",
    "    model = Sequential()\n",
    "    inputs = Input(shape=(64, 64, 3))\n",
    "    \n",
    "    x = inputs\n",
    "    \n",
    "#     x = Conv2D(16, (3, 3), padding=\"same\", activation='relu', BatchNormalization=-1)(x)\n",
    "#     x = MaxPooling2D(pool_size=(2, 2))(x)\n",
    "\n",
    "    model = Conv2DReluBatchNorm(16, 3, 3, x)\n",
    "    model = Conv2DReluBatchNorm(32, 3, 3, model)\n",
    "    model = Conv2DReluBatchNorm(64, 3, 3, model)\n",
    "    \n",
    "    model = Flatten()(model)\n",
    "    model = Dense(16, activation='relu')(model)\n",
    "    model = BatchNormalization(axis=-1)(model)\n",
    "    model = Dropout(0.5)(model)\n",
    "    \n",
    "    model = Dense(4, activation='relu')(model)\n",
    "    model = Dense(1, activation='linear')(model)\n",
    "    \n",
    "    cnn = Model(inputs, model)\n",
    "\n",
    "    # return the CNN\n",
    "    return cnn\n",
    "    \n",
    "#     inputs = model.add(Conv2D(16, 3, 3, input_shape=(64, 64, 3), activation='relu', BatchNormalization=-1))\n",
    "#     model.add(MaxPooling2D(pool_size=(2, 2)))\n",
    "#     model.add(Dense(13, input_dim=13, kernel_initializer='normal', activation='relu'))\n",
    "#     model.add(Dense(1, kernel_initializer='normal'))\n",
    "#     # Compile model\n",
    "#     model.compile(loss='mean_squared_error', optimizer='adam')\n",
    "#     return model"
   ]
  },
  {
   "cell_type": "markdown",
   "metadata": {
    "heading_collapsed": true
   },
   "source": [
    "# Read Dataset"
   ]
  },
  {
   "cell_type": "code",
   "execution_count": null,
   "metadata": {
    "ExecuteTime": {
     "end_time": "2019-05-01T11:46:47.709880Z",
     "start_time": "2019-05-01T11:46:47.440433Z"
    },
    "hidden": true
   },
   "outputs": [],
   "source": [
    "cols = [\"num_bedrooms\", \"num_bathrooms\", \"area\", \"zip_code\", \"price\"]\n",
    "dataset = pd.read_csv(\"HousesInfo.txt\", sep=\" \", header=None, names=cols)"
   ]
  },
  {
   "cell_type": "code",
   "execution_count": null,
   "metadata": {
    "ExecuteTime": {
     "end_time": "2019-05-01T11:46:48.355553Z",
     "start_time": "2019-05-01T11:46:47.712879Z"
    },
    "hidden": true
   },
   "outputs": [],
   "source": [
    "dframe = remove_outliers(dataset)"
   ]
  },
  {
   "cell_type": "code",
   "execution_count": null,
   "metadata": {
    "ExecuteTime": {
     "end_time": "2019-05-01T11:47:42.343956Z",
     "start_time": "2019-05-01T11:46:48.358513Z"
    },
    "hidden": true
   },
   "outputs": [],
   "source": [
    "images = read_images(dframe)\n",
    "images = images/np.max(images)"
   ]
  },
  {
   "cell_type": "markdown",
   "metadata": {
    "heading_collapsed": true
   },
   "source": [
    "# Train-Test Split"
   ]
  },
  {
   "cell_type": "code",
   "execution_count": null,
   "metadata": {
    "ExecuteTime": {
     "end_time": "2019-05-01T11:47:42.423874Z",
     "start_time": "2019-05-01T11:47:42.354894Z"
    },
    "hidden": true
   },
   "outputs": [],
   "source": [
    "X_train_textual, X_test_textual, X_train_images, X_test_images = train_test_split(dframe, images, test_size=0.25, random_state=42)"
   ]
  },
  {
   "cell_type": "code",
   "execution_count": null,
   "metadata": {
    "ExecuteTime": {
     "end_time": "2019-05-01T11:47:42.568521Z",
     "start_time": "2019-05-01T11:47:42.427852Z"
    },
    "hidden": true
   },
   "outputs": [],
   "source": [
    "maximum = np.max(X_train_textual[\"price\"])\n",
    "y_train = X_train_textual[\"price\"]/maximum\n",
    "y_test = X_test_textual[\"price\"]/maximum"
   ]
  },
  {
   "cell_type": "markdown",
   "metadata": {
    "heading_collapsed": true
   },
   "source": [
    "# Convolutional Neural Network"
   ]
  },
  {
   "cell_type": "code",
   "execution_count": null,
   "metadata": {
    "ExecuteTime": {
     "end_time": "2019-05-01T11:47:43.194366Z",
     "start_time": "2019-05-01T11:47:42.570482Z"
    },
    "hidden": true
   },
   "outputs": [],
   "source": [
    "cnn_network = build_CNN()"
   ]
  },
  {
   "cell_type": "code",
   "execution_count": null,
   "metadata": {
    "ExecuteTime": {
     "end_time": "2019-05-01T11:47:43.241322Z",
     "start_time": "2019-05-01T11:47:43.197347Z"
    },
    "hidden": true
   },
   "outputs": [],
   "source": [
    "opt = Adam(lr=1e-3, decay=1e-3 / 200)\n",
    "cnn_network.compile(loss=\"mean_absolute_percentage_error\", optimizer=opt)\n",
    "cnn_network.summary()"
   ]
  },
  {
   "cell_type": "code",
   "execution_count": null,
   "metadata": {
    "ExecuteTime": {
     "end_time": "2019-05-01T12:17:39.821088Z",
     "start_time": "2019-05-01T11:47:43.246321Z"
    },
    "hidden": true
   },
   "outputs": [],
   "source": [
    "cnn_network.fit(X_train_images, y_train, validation_data=(X_test_images, y_test), epochs=100, batch_size=8)"
   ]
  },
  {
   "cell_type": "code",
   "execution_count": null,
   "metadata": {
    "ExecuteTime": {
     "end_time": "2019-05-01T12:17:39.827082Z",
     "start_time": "2019-05-01T11:46:17.192Z"
    },
    "hidden": true
   },
   "outputs": [],
   "source": [
    "preds = cnn_network.predict(X_test_images)"
   ]
  },
  {
   "cell_type": "code",
   "execution_count": null,
   "metadata": {
    "ExecuteTime": {
     "end_time": "2019-05-01T12:17:39.830082Z",
     "start_time": "2019-05-01T11:46:17.198Z"
    },
    "hidden": true
   },
   "outputs": [],
   "source": [
    "r2_cnn = r2_score(y_test, preds)\n",
    "mae_cnn = mean_absolute_error(y_test, preds)\n",
    "print(\"MAE for NN\", mae_cnn)\n",
    "print(\"R2 for NN\", r2_cnn)"
   ]
  },
  {
   "cell_type": "code",
   "execution_count": null,
   "metadata": {
    "ExecuteTime": {
     "end_time": "2019-05-01T12:17:39.833083Z",
     "start_time": "2019-05-01T11:46:17.202Z"
    },
    "hidden": true
   },
   "outputs": [],
   "source": [
    "trainX = greyscale(X_train_images)\n",
    "testX = greyscale(X_test_images)"
   ]
  },
  {
   "cell_type": "markdown",
   "metadata": {
    "heading_collapsed": true
   },
   "source": [
    "# Regression Models"
   ]
  },
  {
   "cell_type": "code",
   "execution_count": null,
   "metadata": {
    "ExecuteTime": {
     "end_time": "2019-05-01T12:17:39.835078Z",
     "start_time": "2019-05-01T11:46:17.208Z"
    },
    "hidden": true
   },
   "outputs": [],
   "source": [
    "r2_svr, mae_svr = support_regressor(trainX, y_train, testX, y_test)"
   ]
  },
  {
   "cell_type": "code",
   "execution_count": null,
   "metadata": {
    "ExecuteTime": {
     "end_time": "2019-05-01T12:17:39.838077Z",
     "start_time": "2019-05-01T11:46:17.210Z"
    },
    "hidden": true
   },
   "outputs": [],
   "source": [
    "# r2_xgb, mae_xgb = XGBoost_regressor(trainX, y_train, testX, y_test)"
   ]
  },
  {
   "cell_type": "code",
   "execution_count": null,
   "metadata": {
    "ExecuteTime": {
     "end_time": "2019-05-01T12:17:39.840076Z",
     "start_time": "2019-05-01T11:46:17.213Z"
    },
    "hidden": true
   },
   "outputs": [],
   "source": [
    "r2_lr, mae_lr = linear_regression(trainX, y_train, testX, y_test)"
   ]
  },
  {
   "cell_type": "code",
   "execution_count": null,
   "metadata": {
    "ExecuteTime": {
     "end_time": "2019-05-01T12:17:39.843076Z",
     "start_time": "2019-05-01T11:46:17.218Z"
    },
    "hidden": true
   },
   "outputs": [],
   "source": [
    "# r2_krr, mae_krr = kernel_ridge_regression(trainX, y_train, testX, y_test)"
   ]
  },
  {
   "cell_type": "code",
   "execution_count": null,
   "metadata": {
    "ExecuteTime": {
     "end_time": "2019-05-01T12:17:39.845073Z",
     "start_time": "2019-05-01T11:46:17.222Z"
    },
    "hidden": true
   },
   "outputs": [],
   "source": [
    "r2_rfr, mae_rfr = random_forest_regressor(trainX, y_train, testX, y_test)"
   ]
  },
  {
   "cell_type": "code",
   "execution_count": null,
   "metadata": {
    "ExecuteTime": {
     "end_time": "2019-05-01T12:17:39.846071Z",
     "start_time": "2019-05-01T11:46:17.226Z"
    },
    "hidden": true
   },
   "outputs": [],
   "source": [
    "print(\"R2 for RFR\", r2_rfr)\n",
    "print(\"MAE for RFR\", mae_rfr)"
   ]
  },
  {
   "cell_type": "code",
   "execution_count": null,
   "metadata": {
    "ExecuteTime": {
     "end_time": "2019-05-01T12:17:39.849070Z",
     "start_time": "2019-05-01T11:46:17.233Z"
    },
    "hidden": true
   },
   "outputs": [],
   "source": [
    "print(\"R2 for SVR\", r2_svr)\n",
    "print(\"MAE for SVR\", mse_svr)"
   ]
  },
  {
   "cell_type": "code",
   "execution_count": null,
   "metadata": {
    "ExecuteTime": {
     "end_time": "2019-05-01T12:17:39.851071Z",
     "start_time": "2019-05-01T11:46:17.240Z"
    },
    "hidden": true
   },
   "outputs": [],
   "source": [
    "print(\"R2 for LR\", r2_lr)\n",
    "print(\"MAE for LR\", mae_lr)"
   ]
  },
  {
   "cell_type": "code",
   "execution_count": null,
   "metadata": {
    "ExecuteTime": {
     "end_time": "2019-05-01T12:17:39.854067Z",
     "start_time": "2019-05-01T11:46:17.246Z"
    },
    "hidden": true
   },
   "outputs": [],
   "source": [
    "# print(\"R2 for XGboost\", r2_xgb)\n",
    "# print(\"MAE for XGboost\", mae_xgb)"
   ]
  },
  {
   "cell_type": "code",
   "execution_count": null,
   "metadata": {
    "ExecuteTime": {
     "end_time": "2019-05-01T12:17:39.860064Z",
     "start_time": "2019-05-01T11:46:17.251Z"
    },
    "hidden": true
   },
   "outputs": [],
   "source": [
    "print(\"R2 for KRR\", r2_krr)\n",
    "print(\"MAE for KRR\", mae_krr)"
   ]
  },
  {
   "cell_type": "markdown",
   "metadata": {},
   "source": [
    "# Residual Plot"
   ]
  },
  {
   "cell_type": "code",
   "execution_count": null,
   "metadata": {
    "ExecuteTime": {
     "end_time": "2019-05-01T12:17:39.864062Z",
     "start_time": "2019-05-01T11:46:17.257Z"
    }
   },
   "outputs": [],
   "source": [
    "# Reference: https://media.readthedocs.org/pdf/yellowbrick/stable/yellowbrick.pdf\n",
    "from yellowbrick.regressor import ResidualsPlot\n",
    "\n",
    "# Instantiate the linear model and visualizer\n",
    "ridge = KernelRidge(alpha=1.0)\n",
    "visualizer = ResidualsPlot(ridge)\n",
    "\n",
    "visualizer.fit(trainX, y_train)  # Fit the training data to the model\n",
    "visualizer.score(testX, y_test)  # Evaluate the model on the test data\n",
    "visualizer.poof()"
   ]
  }
 ],
 "metadata": {
  "kernelspec": {
   "display_name": "Python 3",
   "language": "python",
   "name": "python3"
  },
  "language_info": {
   "codemirror_mode": {
    "name": "ipython",
    "version": 3
   },
   "file_extension": ".py",
   "mimetype": "text/x-python",
   "name": "python",
   "nbconvert_exporter": "python",
   "pygments_lexer": "ipython3",
   "version": "3.6.1"
  }
 },
 "nbformat": 4,
 "nbformat_minor": 2
}
