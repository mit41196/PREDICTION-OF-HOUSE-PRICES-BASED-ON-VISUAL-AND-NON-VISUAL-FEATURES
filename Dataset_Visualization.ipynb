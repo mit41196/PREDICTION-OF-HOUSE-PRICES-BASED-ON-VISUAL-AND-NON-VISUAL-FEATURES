{
 "cells": [
  {
   "cell_type": "markdown",
   "metadata": {},
   "source": [
    "# Import Libraries"
   ]
  },
  {
   "cell_type": "code",
   "execution_count": null,
   "metadata": {},
   "outputs": [],
   "source": [
    "import matplotlib.pyplot as plt\n",
    "import pandas as pd\n",
    "import numpy as np"
   ]
  },
  {
   "cell_type": "code",
   "execution_count": null,
   "metadata": {},
   "outputs": [],
   "source": [
    "columns = [\"bedrooms\", \"bathrooms\", \"area\", \"zipcode\", \"price\"]\n",
    "df1=pd.read_csv('C://Users//home//Desktop//IIITD//SML//Project//Houses-dataset-master//Houses Dataset//HousesInfo.txt',header=None, sep=\" \",names=columns)"
   ]
  },
  {
   "cell_type": "markdown",
   "metadata": {},
   "source": [
    "# Feature Information"
   ]
  },
  {
   "cell_type": "code",
   "execution_count": null,
   "metadata": {},
   "outputs": [],
   "source": [
    "#Statistical details of house dataset\n",
    "df1[['price','area','bedrooms','bathrooms']].describe().take([1,3, 7])"
   ]
  },
  {
   "cell_type": "markdown",
   "metadata": {},
   "source": [
    "# Dataset Visualization"
   ]
  },
  {
   "cell_type": "code",
   "execution_count": null,
   "metadata": {},
   "outputs": [],
   "source": [
    "#Plot of Bedroom, Bathroom, Kitchen and Frontal Side of Sample House\n",
    "plt.subplot(2,2,1)\n",
    "img1 = plt.imread('C://Users//home//Desktop//IIITD//SML//Project//Houses-dataset-master//Houses Dataset//28_bedroom.jpg')\n",
    "plt.imshow(img1)\n",
    "plt.subplot(2,2,2)\n",
    "img2 = plt.imread('C://Users//home//Desktop//IIITD//SML//Project//Houses-dataset-master//Houses Dataset//28_bathroom.jpg')\n",
    "plt.imshow(img2)\n",
    "plt.subplot(2,2,3)\n",
    "img3 = plt.imread('C://Users//home//Desktop//IIITD//SML//Project//Houses-dataset-master//Houses Dataset//28_kitchen.jpg')\n",
    "plt.imshow(img3)\n",
    "plt.subplot(2,2,4)\n",
    "img4 = plt.imread('C://Users//home//Desktop//IIITD//SML//Project//Houses-dataset-master//Houses Dataset//28_frontal.jpg')\n",
    "plt.imshow(img4)\n",
    "plt.show()"
   ]
  },
  {
   "cell_type": "markdown",
   "metadata": {},
   "source": [
    "# Count of Houses According to Zip-code"
   ]
  },
  {
   "cell_type": "code",
   "execution_count": null,
   "metadata": {},
   "outputs": [],
   "source": [
    "#Categorical Dataset Visualization\n",
    "fig, ax = plt.subplots(figsize=(8,8))\n",
    "X = (np.array(df1[\"zipcode\"].value_counts().keys())).astype(str)\n",
    "Y = np.array(df1[\"zipcode\"].value_counts())\n",
    "ax.barh(X, Y)\n",
    "ax.set_title('Categorical Dataset Visualization', fontsize=12)\n",
    "ax.set_xlabel('Count of Houses', fontsize=12)\n",
    "ax.set_ylabel('Zip-code', fontsize=12)"
   ]
  },
  {
   "cell_type": "markdown",
   "metadata": {},
   "source": [
    "# Correlation Matrix Plot"
   ]
  },
  {
   "cell_type": "code",
   "execution_count": null,
   "metadata": {},
   "outputs": [],
   "source": [
    "# Correction Matrix Plot\n",
    "names = list(df1.columns)\n",
    "correlations = df1.corr()\n",
    "# plot correlation matrix\n",
    "fig = plt.figure()\n",
    "ax = fig.add_subplot(111)\n",
    "cax = ax.matshow(correlations, vmin=-1, vmax=1)\n",
    "fig.colorbar(cax)\n",
    "ticks = np.arange(0,len(names),1)\n",
    "ax.set_xticks(ticks)\n",
    "ax.set_yticks(ticks)\n",
    "ax.set_xticklabels(names)\n",
    "ax.set_yticklabels(names)\n",
    "plt.show()"
   ]
  },
  {
   "cell_type": "code",
   "execution_count": null,
   "metadata": {},
   "outputs": [],
   "source": []
  }
 ],
 "metadata": {
  "kernelspec": {
   "display_name": "Python 3",
   "language": "python",
   "name": "python3"
  },
  "language_info": {
   "codemirror_mode": {
    "name": "ipython",
    "version": 3
   },
   "file_extension": ".py",
   "mimetype": "text/x-python",
   "name": "python",
   "nbconvert_exporter": "python",
   "pygments_lexer": "ipython3",
   "version": "3.6.1"
  }
 },
 "nbformat": 4,
 "nbformat_minor": 2
}
