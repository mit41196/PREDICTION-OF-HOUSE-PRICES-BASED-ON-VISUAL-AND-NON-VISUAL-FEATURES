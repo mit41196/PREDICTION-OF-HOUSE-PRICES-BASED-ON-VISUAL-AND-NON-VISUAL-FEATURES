{
 "cells": [
  {
   "cell_type": "markdown",
   "metadata": {},
   "source": [
    "# Import Libraries"
   ]
  },
  {
   "cell_type": "code",
   "execution_count": null,
   "metadata": {},
   "outputs": [],
   "source": [
    "##https://www.pyimagesearch.com/tag/regression/"
   ]
  },
  {
   "cell_type": "code",
   "execution_count": null,
   "metadata": {},
   "outputs": [],
   "source": [
    "import pandas as pd\n",
    "import numpy as np\n",
    "import math\n",
    "import statistics\n",
    "from statistics import mean \n",
    "from sklearn.preprocessing import LabelBinarizer, MinMaxScaler\n",
    "from sklearn.model_selection import train_test_split\n",
    "import matplotlib.pyplot as plt\n",
    "from sklearn.metrics import r2_score\n",
    "import locale\n",
    "from keras.models import Sequential, Model\n",
    "from keras.layers.core import Activation, Dense\n",
    "from keras.layers import Flatten, Input\n",
    "import xgboost as xgb\n",
    "from sklearn.metrics import mean_absolute_error"
   ]
  },
  {
   "cell_type": "code",
   "execution_count": null,
   "metadata": {},
   "outputs": [],
   "source": [
    "columns = [\"bedrooms\", \"bathrooms\", \"area\", \"zipcode\", \"price\"]\n",
    "df1=pd.read_csv('C://Users//home//Desktop//IIITD//SML//Project//Houses-dataset-master//Houses Dataset//HousesInfo.txt',header=None, sep=\" \",names=columns)"
   ]
  },
  {
   "cell_type": "markdown",
   "metadata": {
    "heading_collapsed": true
   },
   "source": [
    "# One-Hot Encoding"
   ]
  },
  {
   "cell_type": "code",
   "execution_count": null,
   "metadata": {
    "hidden": true
   },
   "outputs": [],
   "source": [
    "def binarizer(df):\n",
    "    zb=LabelBinarizer().fit(df[\"zipcode\"])\n",
    "    df2 = pd.DataFrame(zb.transform(df[\"zipcode\"]))\n",
    "    df3=df.drop(['zipcode'], axis=1)\n",
    "    df4 = pd.concat([df3, df2], axis=1,sort=False)\n",
    "    return df4"
   ]
  },
  {
   "cell_type": "markdown",
   "metadata": {
    "heading_collapsed": true
   },
   "source": [
    "# Train-Test Split"
   ]
  },
  {
   "cell_type": "code",
   "execution_count": null,
   "metadata": {
    "hidden": true
   },
   "outputs": [],
   "source": [
    "def split(df):\n",
    "#     train = df.sample(frac = 0.75)\n",
    "#     test = df.drop(train.index)\n",
    "    (train, test) = train_test_split(df, test_size=0.25, random_state=42)\n",
    "    train=train.reset_index(drop=True)\n",
    "    test=test.reset_index(drop=True)\n",
    "    \n",
    "    return train,test"
   ]
  },
  {
   "cell_type": "markdown",
   "metadata": {
    "heading_collapsed": true
   },
   "source": [
    "# Min-Max Normalization"
   ]
  },
  {
   "cell_type": "code",
   "execution_count": null,
   "metadata": {
    "hidden": true
   },
   "outputs": [],
   "source": [
    "def minmaxNorm(train,test):\n",
    "    sc = MinMaxScaler()\n",
    "    train1=pd.DataFrame(sc.fit_transform(train[['bedrooms','bathrooms','area']]))\n",
    "    train1.columns=['bedrooms','bathrooms','area']\n",
    "    traindropped=train.drop(['bedrooms','bathrooms','area'],axis=1)\n",
    "    trainfinal=pd.concat([train1,traindropped],axis=1,sort=False)\n",
    "    test1=pd.DataFrame(sc.transform(test[['bedrooms','bathrooms','area']]))\n",
    "    test1.columns=['bedrooms','bathrooms','area']\n",
    "    testdropped=test.drop(['bedrooms','bathrooms','area'],axis=1)\n",
    "    testfinal=pd.concat([test1,testdropped],axis=1,sort=False)\n",
    "    return trainfinal,testfinal"
   ]
  },
  {
   "cell_type": "code",
   "execution_count": null,
   "metadata": {
    "hidden": true
   },
   "outputs": [],
   "source": [
    "def reduce_feat(dfs):\n",
    "    df = dfs.copy(deep=True)\n",
    "    zipcodes = list(df['zipcode'].value_counts().keys())\n",
    "   \n",
    "    counts = df[\"zipcode\"].value_counts().tolist()\n",
    "    for (zipcode, count) in zip(zipcodes, counts):\n",
    "\n",
    "        if count < 25:\n",
    "            idxs = df[df[\"zipcode\"] == zipcode].index\n",
    "            df.drop(idxs, inplace=True)\n",
    "\n",
    "    return df"
   ]
  },
  {
   "cell_type": "markdown",
   "metadata": {
    "heading_collapsed": true
   },
   "source": [
    "# K-Fold Cross Validation"
   ]
  },
  {
   "cell_type": "code",
   "execution_count": null,
   "metadata": {
    "hidden": true
   },
   "outputs": [],
   "source": [
    "def kfold(data,datatest, flag):\n",
    "    tdata_collection = [\"\" for i in range(5)]\n",
    "    acc = []\n",
    "    pp = math.ceil((len(data)/5))\n",
    "    xs = 0\n",
    "    for i in range(5):\n",
    "        test = data[xs:pp+xs]\n",
    "        train = data.drop(test.index)\n",
    "        xs = xs + pp\n",
    "        train.index = range(len(train))\n",
    "        test.index = range(len(test))\n",
    "        tdata_collection[i] = train\n",
    "        if flag==1:\n",
    "            a = NNregressor(train,test)\n",
    "        elif flag==2:\n",
    "            a = supportVectorR(train, test)\n",
    "        elif flag==3:\n",
    "            a=RFR(train, test)            \n",
    "        acc.append(a)\n",
    "    ind = acc.index(min(acc))\n",
    "    if flag==1:\n",
    "        test_acc = NNregressor(tdata_collection[ind],datatest)\n",
    "    elif flag==2:\n",
    "        test_acc = supportVectorR(tdata_collection[ind],datatest)\n",
    "    elif flag==3:\n",
    "        test_acc = RFR(tdata_collection[ind], datatest)\n",
    "    return acc"
   ]
  },
  {
   "cell_type": "code",
   "execution_count": null,
   "metadata": {
    "hidden": true
   },
   "outputs": [],
   "source": [
    "df2 = reduce_feat(df1)\n",
    "df2 = df2.reset_index(drop=True)\n",
    "print(len(df2))\n",
    "df = binarizer(df2)\n",
    "train, test = split(df)\n",
    "train, test = minmaxNorm(train,test)"
   ]
  },
  {
   "cell_type": "markdown",
   "metadata": {
    "heading_collapsed": true
   },
   "source": [
    "# Neural network"
   ]
  },
  {
   "cell_type": "code",
   "execution_count": null,
   "metadata": {
    "hidden": true
   },
   "outputs": [],
   "source": [
    "from sklearn.neural_network import MLPRegressor\n",
    "def NNregressor(train, test):\n",
    "    Ytrain=train['price']/train['price'].max()\n",
    "    Xtrain=pd.DataFrame(train.drop(['price'],axis=1))\n",
    "    Ytest=test['price']/train['price'].max()\n",
    "    Xtest=test.drop(['price'],axis=1)\n",
    "    clf = MLPRegressor(solver='lbfgs', alpha=1e-5,hidden_layer_sizes=(5, 2), random_state=1)\n",
    "    clf.fit(Xtrain, Ytrain)\n",
    "    pred = clf.predict(Xtest)\n",
    "    m = mean_absolute_error(Ytest, pred)\n",
    "#     s = r2_score(Ytest, pred)\n",
    "#     print(\"R2_score\", s)\n",
    "    print(\"mean_absolute_error\", m)\n",
    "    return m"
   ]
  },
  {
   "cell_type": "code",
   "execution_count": null,
   "metadata": {
    "hidden": true
   },
   "outputs": [],
   "source": [
    "accNN = kfold(train,test, 1)"
   ]
  },
  {
   "cell_type": "code",
   "execution_count": null,
   "metadata": {
    "hidden": true
   },
   "outputs": [],
   "source": [
    "print(accNN)"
   ]
  },
  {
   "cell_type": "markdown",
   "metadata": {
    "heading_collapsed": true
   },
   "source": [
    "# Regression Models"
   ]
  },
  {
   "cell_type": "code",
   "execution_count": null,
   "metadata": {
    "hidden": true
   },
   "outputs": [],
   "source": [
    "from sklearn.svm import SVR\n",
    "def supportVectorR(train,test):\n",
    "    Ytrain=train['price']/train['price'].max()\n",
    "    Xtrain=pd.DataFrame(train.drop(['price'],axis=1))\n",
    "    Ytest=test['price']/train['price'].max()\n",
    "    Xtest=test.drop(['price'],axis=1)\n",
    "    clf = SVR(gamma=0.001, C=1.0, epsilon=0.2, kernel='rbf')\n",
    "    clf.fit(Xtrain.values, Ytrain.values) \n",
    "    pred=clf.predict(Xtest)\n",
    "#     s = r2_score(Ytest, pred)\n",
    "    m = mean_absolute_error(Ytest, pred)\n",
    "#     print(\"R2_score\", s)\n",
    "    print(\"mean_absolute_error\", m)\n",
    "    return m"
   ]
  },
  {
   "cell_type": "code",
   "execution_count": null,
   "metadata": {
    "hidden": true
   },
   "outputs": [],
   "source": [
    "# pred=supportVectorR(train,test)\n",
    "accSVR = kfold(train, test, 2)"
   ]
  },
  {
   "cell_type": "code",
   "execution_count": null,
   "metadata": {
    "hidden": true
   },
   "outputs": [],
   "source": [
    "print(accSVR)"
   ]
  },
  {
   "cell_type": "code",
   "execution_count": null,
   "metadata": {
    "hidden": true
   },
   "outputs": [],
   "source": [
    "from sklearn.ensemble import RandomForestRegressor\n",
    "def RFR(train,test):\n",
    "    Ytrain=train['price']/train['price'].max()\n",
    "    Xtrain=pd.DataFrame(train.drop(['price'],axis=1))\n",
    "    Ytest=test['price']/test['price'].max()\n",
    "    Xtest=test.drop(['price'],axis=1)\n",
    "    regressor = RandomForestRegressor(random_state=0,n_estimators=10)\n",
    "    regressor.fit(Xtrain.values, Ytrain.values)\n",
    "    pred=regressor.predict(Xtest)\n",
    "    s = r2_score(Ytest, pred)\n",
    "    m = mean_absolute_error(Ytest, pred)\n",
    "#     print(\"R2_score\", s)\n",
    "    print(\"mean_absolute_error\",m)\n",
    "    return m"
   ]
  },
  {
   "cell_type": "code",
   "execution_count": null,
   "metadata": {
    "hidden": true
   },
   "outputs": [],
   "source": [
    "accRF = kfold(train, test, 3)"
   ]
  },
  {
   "cell_type": "markdown",
   "metadata": {
    "heading_collapsed": true
   },
   "source": [
    "# Plots"
   ]
  },
  {
   "cell_type": "code",
   "execution_count": null,
   "metadata": {
    "hidden": true
   },
   "outputs": [],
   "source": [
    "x_list=[1,2,3,4,5]\n",
    "plt.xlabel(\"Number of folds\")\n",
    "plt.ylabel(\"Mean Absolute Error\")\n",
    "plt.plot(x_list,accNN,label=\"Neural Network\")\n",
    "plt.plot(x_list,accSVR, label=\"Support Vector Regression\")\n",
    "plt.plot(x_list,accRF, label=\"Random Forest\")\n",
    "plt.legend()\n",
    "plt.show()"
   ]
  },
  {
   "cell_type": "markdown",
   "metadata": {
    "heading_collapsed": true
   },
   "source": [
    "# Residual Plot"
   ]
  },
  {
   "cell_type": "code",
   "execution_count": null,
   "metadata": {
    "hidden": true
   },
   "outputs": [],
   "source": [
    "# Reference: https://media.readthedocs.org/pdf/yellowbrick/stable/yellowbrick.pdf\n",
    "from sklearn.linear_model import LinearRegression\n",
    "from yellowbrick.regressor import ResidualsPlot\n",
    "ridge = LinearRegression()\n",
    "visualizer = ResidualsPlot(ridge)\n",
    "Ytrain=train['price']/train['price'].max()\n",
    "Xtrain=pd.DataFrame(train.drop(['price'],axis=1))\n",
    "Ytest=test['price']/test['price'].max()\n",
    "Xtest=test.drop(['price'],axis=1)\n",
    "visualizer.fit(Xtrain, Ytrain)  # Fit the training data to the model\n",
    "visualizer.score(Xtest, Ytest)  # Evaluate the model on the test data\n",
    "visualizer.poof()\n"
   ]
  },
  {
   "cell_type": "code",
   "execution_count": null,
   "metadata": {
    "hidden": true
   },
   "outputs": [],
   "source": []
  },
  {
   "cell_type": "code",
   "execution_count": null,
   "metadata": {
    "hidden": true
   },
   "outputs": [],
   "source": []
  }
 ],
 "metadata": {
  "kernelspec": {
   "display_name": "Python 3",
   "language": "python",
   "name": "python3"
  },
  "language_info": {
   "codemirror_mode": {
    "name": "ipython",
    "version": 3
   },
   "file_extension": ".py",
   "mimetype": "text/x-python",
   "name": "python",
   "nbconvert_exporter": "python",
   "pygments_lexer": "ipython3",
   "version": "3.6.1"
  }
 },
 "nbformat": 4,
 "nbformat_minor": 2
}
